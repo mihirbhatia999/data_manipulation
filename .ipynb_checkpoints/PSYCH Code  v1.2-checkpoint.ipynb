{
 "cells": [
  {
   "cell_type": "code",
   "execution_count": 3,
   "metadata": {},
   "outputs": [],
   "source": [
    "import pandas as pd \n",
    "import numpy as np \n",
    "from functools import reduce\n",
    "import os \n",
    "import openpyxl"
   ]
  },
  {
   "cell_type": "code",
   "execution_count": 4,
   "metadata": {},
   "outputs": [],
   "source": [
    "list_control = [27,29,31] \n",
    "list_shams = [5,9,11,19,21,23]\n",
    "list_stimulated = [13,15,17]\n",
    "rat_category = {'controls': list_control,'shams': list_shams,'stimulated': list_stimulated}"
   ]
  },
  {
   "cell_type": "code",
   "execution_count": 5,
   "metadata": {},
   "outputs": [
    {
     "name": "stdout",
     "output_type": "stream",
     "text": [
      "{'controls': [27, 29, 31], 'shams': [5, 9, 11, 19, 21, 23], 'stimulated': [13, 15, 17]}\n"
     ]
    }
   ],
   "source": [
    "print(rat_category)"
   ]
  },
  {
   "cell_type": "code",
   "execution_count": 6,
   "metadata": {},
   "outputs": [],
   "source": [
    "'''\n",
    "df_1 = dataframe with only the value of total intake, meal size etc \n",
    "df_2 = dataframe with value of total intake, meal size etc + column for rat type too \n",
    "\n",
    "'''\n",
    "\n",
    "def tabulate(filenames, result_page , rat_category):\n",
    "    day_wise_result = []\n",
    "    final_df = pd.DataFrame()\n",
    "    #for each day in filenames \n",
    "    for day in filenames: \n",
    "        if not day.endswith('.xlsx'):\n",
    "            day = day + '.xlsx'\n",
    "        \n",
    "        df = pd.read_excel(day,sheet_name = 'PSC Totals', skiprows = 8)\n",
    "        \n",
    "        if result_page =='total intake':\n",
    "            df_1 = df.iloc[:,7]\n",
    "            \n",
    "        elif result_page == 'meal number':\n",
    "            df_1 = df.iloc[:,8]\n",
    "            \n",
    "        elif result_page == 'meal size':\n",
    "            df_1 = df.iloc[:,12]\n",
    "            \n",
    "        elif result_page == 'intermeal interval':\n",
    "            df_1 = df.iloc[:,11]\n",
    "        else: \n",
    "            print(\"invalid result page\")\n",
    "            \n",
    "        \n",
    "    #making a list of type of rats and convert to dataframe \n",
    "        type_of_rat = [] \n",
    "        for index, row in df.iterrows():\n",
    "            if row[0] in rat_category['controls']:\n",
    "                type_of_rat.append('controls')\n",
    "                \n",
    "            elif row[0] in rat_category['shams']:\n",
    "                type_of_rat.append('shams')\n",
    "                \n",
    "            elif row[0] in rat_category['stimulated']:\n",
    "                type_of_rat.append('stimulated')\n",
    "        \n",
    "        type_of_rat = pd.DataFrame(np.array(type_of_rat))\n",
    "        type_of_rat.columns = ['type_of_rat']\n",
    "        \n",
    "        df_2 = pd.concat([df_1, type_of_rat ], ignore_index=False, axis = 1)\n",
    "        #now group df2 by type \n",
    "        df_2 = df_2.sort_values(by = \"type_of_rat\")\n",
    "        #print(df_2)\n",
    "        \n",
    "        day_wise_result.append(df_2)\n",
    "    \n",
    "    \n",
    "    #merging all the days dataframes into a single one    \n",
    "    #result = reduce(lambda x, y: pd.merge(x, y, on = 'type_of_rat'), day_wise_result)\n",
    "    for dfs in day_wise_result: \n",
    "        final_df = pd.concat([final_df,dfs.iloc[:,0]], axis = 1 )\n",
    "    final_df.columns = filenames   \n",
    "    final_df = pd.concat([final_df,type_of_rat.sort_values(by = 'type_of_rat')], axis = 1 )\n",
    "    return final_df\n",
    "    \n",
    "    "
   ]
  },
  {
   "cell_type": "code",
   "execution_count": null,
   "metadata": {},
   "outputs": [],
   "source": [
    "def transfer_data(filenames, result_page_list , rat_category, output_filename):\n",
    "    writer = pd.ExcelWriter(output_filename + '.xlsx', engine='xlsxwriter')\n",
    "    \n",
    "    final_df_list = []\n",
    "    averages_list = []\n",
    "    avg_shams_controls = []\n",
    "    avg_stimulated_controls = []\n",
    "\n",
    "    \n",
    "    for sheetname in result_page_list: \n",
    "        if not output_filename.endswith('.xlsx'):\n",
    "            output_filename = output_filename + '.xlsx'\n",
    "            \n",
    "        #using the tabulate function to obtain the final dataframe from the requested files    \n",
    "        final_df = tabulate(filenames, sheetname, rat_category)\n",
    "        \n",
    "        #making dataframe containing category wise matrices \n",
    "        averages = final_df.groupby(['type_of_rat']).mean()\n",
    "        \n",
    "        #adding a column containing row-wise means \n",
    "        final_df['Mean'] = final_df.mean(axis=1)\n",
    "        #averages['Mean'] = averages.mean(axis=1)\n",
    "        #averages['Sum of Averages']=averages.iloc[:,0:averages.shape[1]-1].sum(axis=1)\n",
    "        \n",
    "        #rearranging the columns of final dataframe\n",
    "        new_col_names = []\n",
    "        for col in final_df.columns:\n",
    "            if col != 'type_of_rat':\n",
    "                new_col_names.append(col)\n",
    "        new_col_names.append('type_of_rat')\n",
    "        final_df = final_df[new_col_names]\n",
    "        print(sheetname + \" transferred\")\n",
    "        \n",
    "        final_df_list.append(final_df)\n",
    "        \n",
    "        \n",
    "        #writing the dataframes to the excel sheet \n",
    "        final_df.to_excel(writer, sheet_name=sheetname, index=False, startcol = 1)\n",
    "       \n",
    "        \n",
    "        #calcuating differences for each excel sheet \n",
    "        averages_diff_sham_controls = averages.iloc[1,:] - averages.iloc[0,:] \n",
    "        averages_diff_stim_controls = averages.iloc[2,:] - averages.iloc[0,:]\n",
    "        \n",
    "        averages_diff_sham_controls = averages_diff_sham_controls.to_frame().T\n",
    "        averages_diff_stim_controls = averages_diff_stim_controls.to_frame().T\n",
    "        \n",
    "        averages = pd.concat([averages,averages_diff_sham_controls,averages_diff_stim_controls], ignore_index=True, axis=0)\n",
    "        averages['Mean'] = averages.mean(axis=1)\n",
    "        averages['Sum'] = averages.sum(axis=1)\n",
    "        averages.reindex(['Controls Average', 'Shams Average', 'Stimulated Average','Shams - Controls', 'Stimulated - Controls'])\n",
    "        averages_list.append(averages)\n",
    "        averages.to_excel(writer, sheet_name=sheetname, index=True, startrow=(final_df.shape[0]) + 2 ,startcol= 0)\n",
    "        \n",
    "    writer.save()\n",
    "    print(\"Result saved in file: \" + output_filename)\n",
    "    return final_df_list, averages_list\n"
   ]
  },
  {
   "cell_type": "code",
   "execution_count": null,
   "metadata": {},
   "outputs": [],
   "source": [
    "#final function \n",
    "\n",
    "#taking in inputs \n",
    "'''filenames = [str(x) for x in input(\"Enter the name of files with space in between : \").split()]\n",
    "list_control = [int(x) for x in input(\"Enter the CONTROL RAT NO.S : \").split()]\n",
    "list_shams = [int(x) for x in input(\"Enter the SHAM RAT NO.S : \").split()]\n",
    "list_stimulated = [int(x) for x in input(\"Enter the STIMULATED RAT NO.S : \").split()]\n",
    "'''\n",
    "\n",
    "list_control = [27, 29, 31] \n",
    "list_shams = [5, 9, 11, 19, 21, 23]\n",
    "list_stimulated = [13, 15, 17]\n",
    "\n",
    "#storing rat categories as signauture \n",
    "rat_category = {'controls': list_control,'shams': list_shams,'stimulated': list_stimulated}\n",
    "\n",
    "output_filename = input(\"Enter the ouput filename: \")\n",
    "\n",
    "final_df , averages = transfer_data(filenames = filenames, result_page_list=['total intake','meal number','meal size','intermeal interval'], rat_category = rat_category, output_filename = output_filename)\n",
    "\n"
   ]
  },
  {
   "cell_type": "code",
   "execution_count": null,
   "metadata": {},
   "outputs": [],
   "source": [
    "averages[1]"
   ]
  },
  {
   "cell_type": "code",
   "execution_count": 34,
   "metadata": {},
   "outputs": [
    {
     "data": {
      "text/plain": [
       "[    Day_1  Day_2  Day_3  Day_4     Mean type_of_rat\n",
       " 9   16.38  14.71  20.42  16.50  17.0025    controls\n",
       " 10  13.94  14.44  14.26  15.72  14.5900    controls\n",
       " 11  15.86  15.24  15.87  16.22  15.7975    controls\n",
       " 0   15.75  20.01  20.48  18.19  18.6075       shams\n",
       " 1   17.28  20.74  16.86  21.83  19.1775       shams\n",
       " 2   14.40  17.14  17.53  17.22  16.5725       shams\n",
       " 6   21.33  17.14  17.72  19.29  18.8700       shams\n",
       " 7   15.17  17.96  17.48  15.74  16.5875       shams\n",
       " 8   18.74  19.99  20.89  17.09  19.1775       shams\n",
       " 3   21.76  19.18  19.25  22.28  20.6175  stimulated\n",
       " 4   19.51  18.10  17.58  16.96  18.0375  stimulated\n",
       " 5   20.94  17.75  22.57  19.42  20.1700  stimulated,\n",
       "     Day_1  Day_2  Day_3  Day_4  Mean type_of_rat\n",
       " 9       8      6      6      6  6.50    controls\n",
       " 10      6      8      5      6  6.25    controls\n",
       " 11     11      9     11      8  9.75    controls\n",
       " 0       6      5      5      6  5.50       shams\n",
       " 1       5      7      5      7  6.00       shams\n",
       " 2       7      9      9      8  8.25       shams\n",
       " 6       7      8      8     12  8.75       shams\n",
       " 7       5      5      7      5  5.50       shams\n",
       " 8       6      8     10      5  7.25       shams\n",
       " 3       7      7      7      6  6.75  stimulated\n",
       " 4       5      6      7      5  5.75  stimulated\n",
       " 5       5      5      6      4  5.00  stimulated,\n",
       "     Day_1  Day_2  Day_3  Day_4    Mean type_of_rat\n",
       " 9    2.05   2.45   3.40   2.75  2.6625    controls\n",
       " 10   2.32   1.81   2.85   2.62  2.4000    controls\n",
       " 11   1.44   1.69   1.44   2.03  1.6500    controls\n",
       " 0    2.62   4.00   4.10   3.03  3.4375       shams\n",
       " 1    3.46   2.96   3.37   3.12  3.2275       shams\n",
       " 2    2.06   1.90   1.95   2.15  2.0150       shams\n",
       " 6    3.05   2.14   2.22   1.61  2.2550       shams\n",
       " 7    3.03   3.59   2.50   3.15  3.0675       shams\n",
       " 8    3.12   2.50   2.09   3.42  2.7825       shams\n",
       " 3    3.11   2.74   2.75   3.71  3.0775  stimulated\n",
       " 4    3.90   3.02   2.51   3.39  3.2050  stimulated\n",
       " 5    4.19   3.55   3.76   4.86  4.0900  stimulated,\n",
       "       Day_1    Day_2    Day_3    Day_4       Mean type_of_rat\n",
       " 9   1013.62   894.17  1482.17  1615.83  1251.4475    controls\n",
       " 10   794.33   738.00   912.40   766.33   802.7650    controls\n",
       " 11   529.18   691.56   579.27   674.50   618.6275    controls\n",
       " 0   1097.50  1409.20  1590.00  1433.67  1382.5925       shams\n",
       " 1   1252.80  1207.14  1552.40   905.00  1229.3350       shams\n",
       " 2    813.57   954.89   677.00   874.62   830.0200       shams\n",
       " 6    958.57   805.62  1029.50   703.92   874.4025       shams\n",
       " 7    945.80  1477.60   697.86  1658.60  1194.9650       shams\n",
       " 8   2239.17  1439.50   953.60  1655.40  1571.9175       shams\n",
       " 3   1370.14  1552.00  1263.86  1524.50  1427.6250  stimulated\n",
       " 4   1908.80  1770.00   888.00  1479.60  1511.6000  stimulated\n",
       " 5   1627.80  1322.00  1518.17  1856.75  1581.1800  stimulated]"
      ]
     },
     "execution_count": 34,
     "metadata": {},
     "output_type": "execute_result"
    }
   ],
   "source": [
    "final_df"
   ]
  },
  {
   "cell_type": "code",
   "execution_count": 35,
   "metadata": {},
   "outputs": [
    {
     "data": {
      "text/plain": [
       "[                 Day_1      Day_2      Day_3      Day_4       Mean  \\\n",
       " type_of_rat                                                          \n",
       " controls     15.393333  14.796667  16.850000  16.146667  15.796667   \n",
       " shams        17.111667  18.830000  18.493333  18.226667  18.165417   \n",
       " stimulated   20.736667  18.343333  19.800000  19.553333  19.608333   \n",
       " \n",
       "              Sum of Averages  \n",
       " type_of_rat                   \n",
       " controls           63.186667  \n",
       " shams              72.661667  \n",
       " stimulated         78.433333  ,\n",
       "                 Day_1     Day_2     Day_3     Day_4      Mean  Sum of Averages\n",
       " type_of_rat                                                                   \n",
       " controls     8.333333  7.666667  7.333333  6.666667  7.500000        30.000000\n",
       " shams        6.000000  7.000000  7.333333  7.166667  6.875000        27.500000\n",
       " stimulated   5.666667  6.000000  6.666667  5.000000  5.833333        23.333333,\n",
       "                 Day_1     Day_2     Day_3     Day_4    Mean  Sum of Averages\n",
       " type_of_rat                                                                 \n",
       " controls     1.936667  1.983333  2.563333  2.466667  2.2375             8.95\n",
       " shams        2.890000  2.848333  2.705000  2.746667  2.7975            11.19\n",
       " stimulated   3.733333  3.103333  3.006667  3.986667  3.4575            13.83,\n",
       "                    Day_1        Day_2        Day_3        Day_4         Mean  \\\n",
       " type_of_rat                                                                    \n",
       " controls      779.043333   774.576667   991.280000  1018.886667   890.946667   \n",
       " shams        1217.901667  1215.658333  1083.393333  1205.201667  1180.538750   \n",
       " stimulated   1635.580000  1548.000000  1223.343333  1620.283333  1506.801667   \n",
       " \n",
       "              Sum of Averages  \n",
       " type_of_rat                   \n",
       " controls         3563.786667  \n",
       " shams            4722.155000  \n",
       " stimulated       6027.206667  ]"
      ]
     },
     "execution_count": 35,
     "metadata": {},
     "output_type": "execute_result"
    }
   ],
   "source": [
    "# now we manually calculate some of the sums from each sheet of the resultant workbook and paste the results there \n",
    "averages\n"
   ]
  },
  {
   "cell_type": "code",
   "execution_count": 24,
   "metadata": {},
   "outputs": [
    {
     "data": {
      "text/plain": [
       "[Day_1    1.718333\n",
       " Day_2    4.033333\n",
       " Day_3    1.643333\n",
       " Day_4    2.080000\n",
       " dtype: float64, Day_1   -2.333333\n",
       " Day_2   -0.666667\n",
       " Day_3    0.000000\n",
       " Day_4    0.500000\n",
       " dtype: float64, Day_1    0.953333\n",
       " Day_2    0.865000\n",
       " Day_3    0.141667\n",
       " Day_4    0.280000\n",
       " dtype: float64, Day_1    438.858333\n",
       " Day_2    441.081667\n",
       " Day_3     92.113333\n",
       " Day_4    186.315000\n",
       " dtype: float64]"
      ]
     },
     "execution_count": 24,
     "metadata": {},
     "output_type": "execute_result"
    }
   ],
   "source": [
    "avg_shams_controls"
   ]
  },
  {
   "cell_type": "code",
   "execution_count": 25,
   "metadata": {},
   "outputs": [
    {
     "data": {
      "text/plain": [
       "[Day_1    5.343333\n",
       " Day_2    3.546667\n",
       " Day_3    2.950000\n",
       " Day_4    3.406667\n",
       " dtype: float64, Day_1   -2.666667\n",
       " Day_2   -1.666667\n",
       " Day_3   -0.666667\n",
       " Day_4   -1.666667\n",
       " dtype: float64, Day_1    1.796667\n",
       " Day_2    1.120000\n",
       " Day_3    0.443333\n",
       " Day_4    1.520000\n",
       " dtype: float64, Day_1    856.536667\n",
       " Day_2    773.423333\n",
       " Day_3    232.063333\n",
       " Day_4    601.396667\n",
       " dtype: float64]"
      ]
     },
     "execution_count": 25,
     "metadata": {},
     "output_type": "execute_result"
    }
   ],
   "source": [
    "avg_stimulated_controls"
   ]
  },
  {
   "cell_type": "code",
   "execution_count": 26,
   "metadata": {},
   "outputs": [
    {
     "data": {
      "text/plain": [
       "[1158.3683333333333,\n",
       " 1158.3683333333333,\n",
       " 1158.3683333333333,\n",
       " 1158.3683333333333]"
      ]
     },
     "execution_count": 26,
     "metadata": {},
     "output_type": "execute_result"
    }
   ],
   "source": [
    "sum_avg_shams_controls"
   ]
  },
  {
   "cell_type": "code",
   "execution_count": 27,
   "metadata": {},
   "outputs": [
    {
     "data": {
      "text/plain": [
       "[2463.42, 2463.42, 2463.42, 2463.42]"
      ]
     },
     "execution_count": 27,
     "metadata": {},
     "output_type": "execute_result"
    }
   ],
   "source": [
    "sum_avg_stimulated_controls"
   ]
  },
  {
   "cell_type": "code",
   "execution_count": 60,
   "metadata": {},
   "outputs": [],
   "source": [
    "df1 = pd.DataFrame({'A': [1,2, 3, 4],\n",
    "                     'B': [1,5, 3, 4],\n",
    "                        'C': [1,2, 5, 4],\n",
    "                        'D': [1,2, 3, 4]},\n",
    "                       index=[0, 1, 2, 3])"
   ]
  },
  {
   "cell_type": "code",
   "execution_count": 61,
   "metadata": {},
   "outputs": [
    {
     "data": {
      "text/html": [
       "<div>\n",
       "<style scoped>\n",
       "    .dataframe tbody tr th:only-of-type {\n",
       "        vertical-align: middle;\n",
       "    }\n",
       "\n",
       "    .dataframe tbody tr th {\n",
       "        vertical-align: top;\n",
       "    }\n",
       "\n",
       "    .dataframe thead th {\n",
       "        text-align: right;\n",
       "    }\n",
       "</style>\n",
       "<table border=\"1\" class=\"dataframe\">\n",
       "  <thead>\n",
       "    <tr style=\"text-align: right;\">\n",
       "      <th></th>\n",
       "      <th>A</th>\n",
       "      <th>B</th>\n",
       "      <th>C</th>\n",
       "      <th>D</th>\n",
       "    </tr>\n",
       "  </thead>\n",
       "  <tbody>\n",
       "    <tr>\n",
       "      <th>0</th>\n",
       "      <td>1</td>\n",
       "      <td>1</td>\n",
       "      <td>1</td>\n",
       "      <td>1</td>\n",
       "    </tr>\n",
       "    <tr>\n",
       "      <th>1</th>\n",
       "      <td>2</td>\n",
       "      <td>5</td>\n",
       "      <td>2</td>\n",
       "      <td>2</td>\n",
       "    </tr>\n",
       "    <tr>\n",
       "      <th>2</th>\n",
       "      <td>3</td>\n",
       "      <td>3</td>\n",
       "      <td>5</td>\n",
       "      <td>3</td>\n",
       "    </tr>\n",
       "    <tr>\n",
       "      <th>3</th>\n",
       "      <td>4</td>\n",
       "      <td>4</td>\n",
       "      <td>4</td>\n",
       "      <td>4</td>\n",
       "    </tr>\n",
       "  </tbody>\n",
       "</table>\n",
       "</div>"
      ],
      "text/plain": [
       "   A  B  C  D\n",
       "0  1  1  1  1\n",
       "1  2  5  2  2\n",
       "2  3  3  5  3\n",
       "3  4  4  4  4"
      ]
     },
     "execution_count": 61,
     "metadata": {},
     "output_type": "execute_result"
    }
   ],
   "source": [
    "df1"
   ]
  },
  {
   "cell_type": "code",
   "execution_count": 66,
   "metadata": {},
   "outputs": [
    {
     "data": {
      "text/plain": [
       "A   -1\n",
       "B    2\n",
       "C   -3\n",
       "D   -1\n",
       "dtype: int64"
      ]
     },
     "execution_count": 66,
     "metadata": {},
     "output_type": "execute_result"
    }
   ],
   "source": [
    "df2 = df1.iloc[1,:] - df1.iloc[2,:]\n"
   ]
  },
  {
   "cell_type": "code",
   "execution_count": 88,
   "metadata": {},
   "outputs": [],
   "source": [
    "df2 = df2.to_frame().T"
   ]
  },
  {
   "cell_type": "code",
   "execution_count": 89,
   "metadata": {},
   "outputs": [
    {
     "data": {
      "text/html": [
       "<div>\n",
       "<style scoped>\n",
       "    .dataframe tbody tr th:only-of-type {\n",
       "        vertical-align: middle;\n",
       "    }\n",
       "\n",
       "    .dataframe tbody tr th {\n",
       "        vertical-align: top;\n",
       "    }\n",
       "\n",
       "    .dataframe thead th {\n",
       "        text-align: right;\n",
       "    }\n",
       "</style>\n",
       "<table border=\"1\" class=\"dataframe\">\n",
       "  <thead>\n",
       "    <tr style=\"text-align: right;\">\n",
       "      <th></th>\n",
       "      <th>A</th>\n",
       "      <th>B</th>\n",
       "      <th>C</th>\n",
       "      <th>D</th>\n",
       "    </tr>\n",
       "  </thead>\n",
       "  <tbody>\n",
       "    <tr>\n",
       "      <th>0</th>\n",
       "      <td>-1</td>\n",
       "      <td>2</td>\n",
       "      <td>-3</td>\n",
       "      <td>-1</td>\n",
       "    </tr>\n",
       "  </tbody>\n",
       "</table>\n",
       "</div>"
      ],
      "text/plain": [
       "   A  B  C  D\n",
       "0 -1  2 -3 -1"
      ]
     },
     "execution_count": 89,
     "metadata": {},
     "output_type": "execute_result"
    }
   ],
   "source": [
    "df2"
   ]
  },
  {
   "cell_type": "code",
   "execution_count": 90,
   "metadata": {},
   "outputs": [],
   "source": [
    "df3 = pd.concat([df1,df2], ignore_index=True, axis = 0)"
   ]
  },
  {
   "cell_type": "code",
   "execution_count": 91,
   "metadata": {},
   "outputs": [
    {
     "data": {
      "text/html": [
       "<div>\n",
       "<style scoped>\n",
       "    .dataframe tbody tr th:only-of-type {\n",
       "        vertical-align: middle;\n",
       "    }\n",
       "\n",
       "    .dataframe tbody tr th {\n",
       "        vertical-align: top;\n",
       "    }\n",
       "\n",
       "    .dataframe thead th {\n",
       "        text-align: right;\n",
       "    }\n",
       "</style>\n",
       "<table border=\"1\" class=\"dataframe\">\n",
       "  <thead>\n",
       "    <tr style=\"text-align: right;\">\n",
       "      <th></th>\n",
       "      <th>A</th>\n",
       "      <th>B</th>\n",
       "      <th>C</th>\n",
       "      <th>D</th>\n",
       "    </tr>\n",
       "  </thead>\n",
       "  <tbody>\n",
       "    <tr>\n",
       "      <th>0</th>\n",
       "      <td>1</td>\n",
       "      <td>1</td>\n",
       "      <td>1</td>\n",
       "      <td>1</td>\n",
       "    </tr>\n",
       "    <tr>\n",
       "      <th>1</th>\n",
       "      <td>2</td>\n",
       "      <td>5</td>\n",
       "      <td>2</td>\n",
       "      <td>2</td>\n",
       "    </tr>\n",
       "    <tr>\n",
       "      <th>2</th>\n",
       "      <td>3</td>\n",
       "      <td>3</td>\n",
       "      <td>5</td>\n",
       "      <td>3</td>\n",
       "    </tr>\n",
       "    <tr>\n",
       "      <th>3</th>\n",
       "      <td>4</td>\n",
       "      <td>4</td>\n",
       "      <td>4</td>\n",
       "      <td>4</td>\n",
       "    </tr>\n",
       "    <tr>\n",
       "      <th>4</th>\n",
       "      <td>-1</td>\n",
       "      <td>2</td>\n",
       "      <td>-3</td>\n",
       "      <td>-1</td>\n",
       "    </tr>\n",
       "  </tbody>\n",
       "</table>\n",
       "</div>"
      ],
      "text/plain": [
       "   A  B  C  D\n",
       "0  1  1  1  1\n",
       "1  2  5  2  2\n",
       "2  3  3  5  3\n",
       "3  4  4  4  4\n",
       "4 -1  2 -3 -1"
      ]
     },
     "execution_count": 91,
     "metadata": {},
     "output_type": "execute_result"
    }
   ],
   "source": [
    "df3"
   ]
  },
  {
   "cell_type": "code",
   "execution_count": 100,
   "metadata": {},
   "outputs": [
    {
     "data": {
      "text/html": [
       "<div>\n",
       "<style scoped>\n",
       "    .dataframe tbody tr th:only-of-type {\n",
       "        vertical-align: middle;\n",
       "    }\n",
       "\n",
       "    .dataframe tbody tr th {\n",
       "        vertical-align: top;\n",
       "    }\n",
       "\n",
       "    .dataframe thead th {\n",
       "        text-align: right;\n",
       "    }\n",
       "</style>\n",
       "<table border=\"1\" class=\"dataframe\">\n",
       "  <thead>\n",
       "    <tr style=\"text-align: right;\">\n",
       "      <th></th>\n",
       "      <th>A</th>\n",
       "      <th>B</th>\n",
       "      <th>C</th>\n",
       "      <th>D</th>\n",
       "      <th>Sum</th>\n",
       "    </tr>\n",
       "  </thead>\n",
       "  <tbody>\n",
       "    <tr>\n",
       "      <th>0</th>\n",
       "      <td>1</td>\n",
       "      <td>1</td>\n",
       "      <td>1</td>\n",
       "      <td>1</td>\n",
       "      <td>4.0</td>\n",
       "    </tr>\n",
       "    <tr>\n",
       "      <th>1</th>\n",
       "      <td>2</td>\n",
       "      <td>5</td>\n",
       "      <td>2</td>\n",
       "      <td>2</td>\n",
       "      <td>11.0</td>\n",
       "    </tr>\n",
       "    <tr>\n",
       "      <th>2</th>\n",
       "      <td>3</td>\n",
       "      <td>3</td>\n",
       "      <td>5</td>\n",
       "      <td>3</td>\n",
       "      <td>14.0</td>\n",
       "    </tr>\n",
       "    <tr>\n",
       "      <th>3</th>\n",
       "      <td>4</td>\n",
       "      <td>4</td>\n",
       "      <td>4</td>\n",
       "      <td>4</td>\n",
       "      <td>16.0</td>\n",
       "    </tr>\n",
       "    <tr>\n",
       "      <th>4</th>\n",
       "      <td>-1</td>\n",
       "      <td>2</td>\n",
       "      <td>-3</td>\n",
       "      <td>-1</td>\n",
       "      <td>-3.0</td>\n",
       "    </tr>\n",
       "  </tbody>\n",
       "</table>\n",
       "</div>"
      ],
      "text/plain": [
       "   A  B  C  D   Sum\n",
       "0  1  1  1  1   4.0\n",
       "1  2  5  2  2  11.0\n",
       "2  3  3  5  3  14.0\n",
       "3  4  4  4  4  16.0\n",
       "4 -1  2 -3 -1  -3.0"
      ]
     },
     "execution_count": 100,
     "metadata": {},
     "output_type": "execute_result"
    }
   ],
   "source": [
    "df3['Sum'] = df3.sum(axis=1)\n",
    "df3"
   ]
  }
 ],
 "metadata": {
  "kernelspec": {
   "display_name": "Python 3",
   "language": "python",
   "name": "python3"
  },
  "language_info": {
   "codemirror_mode": {
    "name": "ipython",
    "version": 3
   },
   "file_extension": ".py",
   "mimetype": "text/x-python",
   "name": "python",
   "nbconvert_exporter": "python",
   "pygments_lexer": "ipython3",
   "version": "3.6.4"
  }
 },
 "nbformat": 4,
 "nbformat_minor": 2
}
